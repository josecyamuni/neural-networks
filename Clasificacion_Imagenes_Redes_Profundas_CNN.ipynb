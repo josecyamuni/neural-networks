{
 "cells": [
  {
   "cell_type": "markdown",
   "id": "ffde94e2",
   "metadata": {},
   "source": [
    "Alejandra Velasco Zárate A01635453\n",
    "\n",
    "José Antonio Juárez Pacheco A0057218\n",
    "\n",
    "José Carlos Yamuni Contreras A01740285\n",
    "\n",
    "Juan Manuel Hernández Solano A00572208"
   ]
  },
  {
   "cell_type": "code",
   "execution_count": 1,
   "id": "354ff161",
   "metadata": {},
   "outputs": [
    {
     "name": "stderr",
     "output_type": "stream",
     "text": [
      "C:\\Users\\Alejandra Velasco\\anaconda3\\Lib\\site-packages\\paramiko\\transport.py:219: CryptographyDeprecationWarning: Blowfish has been deprecated\n",
      "  \"class\": algorithms.Blowfish,\n"
     ]
    }
   ],
   "source": [
    "# Importar librerías\n",
    "\n",
    "import matplotlib.pyplot as plt\n",
    "import numpy as np\n",
    "import tensorflow as tf\n",
    "from tensorflow import keras\n",
    "from tensorflow.keras import layers\n",
    "from keras.utils import load_img\n",
    "from sklearn.model_selection import StratifiedKFold\n",
    "from sklearn.metrics import classification_report\n",
    "from tensorflow.keras.utils import to_categorical\n",
    "from sklearn.preprocessing import LabelEncoder\n",
    "import pandas as pd\n",
    "from keras.utils import to_categorical\n",
    "from sklearn.model_selection import train_test_split\n",
    "from keras.models import Sequential, Model\n",
    "from keras.layers import Dense, Flatten, Conv2D, MaxPooling2D, Dropout, BatchNormalization,LeakyReLU\n",
    "import os\n",
    "from skimage import color\n",
    "from skimage.io import imread, imshow\n",
    "from skimage.transform import resize"
   ]
  },
  {
   "cell_type": "markdown",
   "id": "32758850",
   "metadata": {},
   "source": [
    "# Función para preprocesamiento de imágenes"
   ]
  },
  {
   "cell_type": "code",
   "execution_count": 2,
   "id": "cddd2c94",
   "metadata": {},
   "outputs": [],
   "source": [
    "def preprocesamiento(datadir,categories, scale):\n",
    "    flat_data_arr=[]\n",
    "    target_arr=[]\n",
    "    for i in categories:\n",
    "        path=os.path.join(datadir,i)\n",
    "        for img in os.listdir(path):\n",
    "            img_array=imread(os.path.join(path,img))\n",
    "            img_array = color.rgb2gray(img_array)\n",
    "            rgb_resized = resize(img_array, (int(1080/scale), int(1920/scale)))\n",
    "            rgb_resized.tolist()\n",
    "            flat_data_arr.append(rgb_resized) \n",
    "            target_arr.append(categories.index(i))\n",
    "        print(f'Categoría {i} cargada exitosamente')\n",
    "    return flat_data_arr,target_arr"
   ]
  },
  {
   "cell_type": "markdown",
   "id": "92f61669",
   "metadata": {},
   "source": [
    "# Conjunto de imágenes Fashion-MNIST"
   ]
  },
  {
   "cell_type": "code",
   "execution_count": 3,
   "id": "4df01f80",
   "metadata": {},
   "outputs": [],
   "source": [
    "(x_train, y_train), (x_test, y_test) = tf.keras.datasets.fashion_mnist.load_data()\n",
    "\n",
    "x_train = x_train.reshape(60000, 28, 28, 1)\n",
    "x_test = x_test.reshape(10000, 28, 28, 1)\n",
    "\n",
    "x_train, x_test = x_train / 255.0, x_test /255.0"
   ]
  },
  {
   "cell_type": "code",
   "execution_count": 4,
   "id": "758209df",
   "metadata": {},
   "outputs": [],
   "source": [
    "model = tf.keras.models.Sequential([\n",
    "    tf.keras.layers.Conv2D(64, (3, 3), activation = 'relu', input_shape=(28, 28, 1)), \n",
    "    tf.keras.layers.MaxPooling2D(2, 2),\n",
    "    tf.keras.layers.Conv2D(64, (3, 3), activation = 'relu'), \n",
    "    tf.keras.layers.MaxPooling2D(2, 2),\n",
    "    tf.keras.layers.Flatten(),\n",
    "    tf.keras.layers.Dense(128, activation = 'relu'), \n",
    "    tf.keras.layers.Dense(10, activation = 'softmax')\n",
    "])"
   ]
  },
  {
   "cell_type": "code",
   "execution_count": 5,
   "id": "1ab3d53f",
   "metadata": {},
   "outputs": [],
   "source": [
    "model.compile(optimizer='adam', loss = 'sparse_categorical_crossentropy', metrics = ['accuracy'])"
   ]
  },
  {
   "cell_type": "code",
   "execution_count": 6,
   "id": "684123c7",
   "metadata": {},
   "outputs": [
    {
     "name": "stdout",
     "output_type": "stream",
     "text": [
      "Model: \"sequential\"\n",
      "_________________________________________________________________\n",
      " Layer (type)                Output Shape              Param #   \n",
      "=================================================================\n",
      " conv2d (Conv2D)             (None, 26, 26, 64)        640       \n",
      "                                                                 \n",
      " max_pooling2d (MaxPooling2  (None, 13, 13, 64)        0         \n",
      " D)                                                              \n",
      "                                                                 \n",
      " conv2d_1 (Conv2D)           (None, 11, 11, 64)        36928     \n",
      "                                                                 \n",
      " max_pooling2d_1 (MaxPoolin  (None, 5, 5, 64)          0         \n",
      " g2D)                                                            \n",
      "                                                                 \n",
      " flatten (Flatten)           (None, 1600)              0         \n",
      "                                                                 \n",
      " dense (Dense)               (None, 128)               204928    \n",
      "                                                                 \n",
      " dense_1 (Dense)             (None, 10)                1290      \n",
      "                                                                 \n",
      "=================================================================\n",
      "Total params: 243786 (952.29 KB)\n",
      "Trainable params: 243786 (952.29 KB)\n",
      "Non-trainable params: 0 (0.00 Byte)\n",
      "_________________________________________________________________\n"
     ]
    }
   ],
   "source": [
    "model.summary()"
   ]
  },
  {
   "cell_type": "code",
   "execution_count": 7,
   "id": "52a1564e",
   "metadata": {},
   "outputs": [
    {
     "name": "stdout",
     "output_type": "stream",
     "text": [
      "Epoch 1/5\n",
      "1875/1875 [==============================] - 49s 26ms/step - loss: 0.4392 - accuracy: 0.8428 - val_loss: 0.3329 - val_accuracy: 0.8788\n",
      "Epoch 2/5\n",
      "1875/1875 [==============================] - 53s 28ms/step - loss: 0.2936 - accuracy: 0.8932 - val_loss: 0.3008 - val_accuracy: 0.8918\n",
      "Epoch 3/5\n",
      "1875/1875 [==============================] - 52s 28ms/step - loss: 0.2465 - accuracy: 0.9082 - val_loss: 0.2727 - val_accuracy: 0.8990\n",
      "Epoch 4/5\n",
      "1875/1875 [==============================] - 47s 25ms/step - loss: 0.2136 - accuracy: 0.9205 - val_loss: 0.2652 - val_accuracy: 0.9037\n",
      "Epoch 5/5\n",
      "1875/1875 [==============================] - 47s 25ms/step - loss: 0.1875 - accuracy: 0.9291 - val_loss: 0.2523 - val_accuracy: 0.9101\n"
     ]
    }
   ],
   "source": [
    "history = model.fit(x_train, y_train, epochs = 5, validation_data = (x_test, y_test))"
   ]
  },
  {
   "cell_type": "code",
   "execution_count": 8,
   "id": "3646af11",
   "metadata": {},
   "outputs": [
    {
     "name": "stdout",
     "output_type": "stream",
     "text": [
      "313/313 [==============================] - 2s 7ms/step\n",
      "Accuracy: 0.9101\n",
      "Recall para la clase T-shirt/top: 0.837\n",
      "Recall para la clase Trouser: 0.985\n",
      "Recall para la clase Pullover: 0.86\n",
      "Recall para la clase Dress: 0.949\n",
      "Recall para la clase Coat: 0.846\n",
      "Recall para la clase Sandal: 0.984\n",
      "Recall para la clase Shirt: 0.749\n",
      "Recall para la clase Sneaker: 0.977\n",
      "Recall para la clase Bag: 0.967\n",
      "Recall para la clase Ankle boot: 0.947\n"
     ]
    }
   ],
   "source": [
    "from sklearn.metrics import accuracy_score, recall_score\n",
    "\n",
    "y_pred = model.predict(x_test)\n",
    "\n",
    "y_pred_classes = np.argmax(y_pred, axis=1)\n",
    "\n",
    "accuracy = accuracy_score(y_test, y_pred_classes)\n",
    "\n",
    "print(f'Accuracy: {accuracy}')\n",
    "\n",
    "class_names = {\n",
    "    0: 'T-shirt/top',\n",
    "    1: 'Trouser',\n",
    "    2: 'Pullover',\n",
    "    3: 'Dress',\n",
    "    4: 'Coat',\n",
    "    5: 'Sandal',\n",
    "    6: 'Shirt',\n",
    "    7: 'Sneaker',\n",
    "    8: 'Bag',\n",
    "    9: 'Ankle boot'\n",
    "}\n",
    "\n",
    "labels = list(class_names.keys())\n",
    "recall_per_class = recall_score(y_test, y_pred_classes, labels=labels, average=None)\n",
    "\n",
    "for label, recall in zip(labels, recall_per_class):\n",
    "    class_name = class_names[label]\n",
    "    print(f'Recall para la clase {class_name}: {recall}')"
   ]
  },
  {
   "cell_type": "markdown",
   "id": "bdfb75f3",
   "metadata": {},
   "source": [
    "# Conjunto de imágenes satelitales"
   ]
  },
  {
   "cell_type": "code",
   "execution_count": 46,
   "id": "eb765e5b",
   "metadata": {},
   "outputs": [
    {
     "name": "stdout",
     "output_type": "stream",
     "text": [
      "Categoría Agua cargada exitosamente\n",
      "Categoría Bosque cargada exitosamente\n",
      "Categoría Ciudad cargada exitosamente\n",
      "Categoría Cultivo cargada exitosamente\n",
      "Categoría Desierto cargada exitosamente\n",
      "Categoría Montaña cargada exitosamente\n"
     ]
    }
   ],
   "source": [
    "# Cargar imágenes satelitales\n",
    "datadir = 'data'\n",
    "classes = ['Agua', 'Bosque', 'Ciudad', 'Cultivo', 'Desierto', 'Montaña']\n",
    "\n",
    "# Llamar a la función de preprocesamiento de imágenes \n",
    "x, y = preprocesamiento(datadir, classes, 8)"
   ]
  },
  {
   "cell_type": "code",
   "execution_count": 59,
   "id": "74fab849",
   "metadata": {},
   "outputs": [],
   "source": [
    "X = np.array(x)\n",
    "y = np.array(y)\n",
    "\n",
    "# Separar bases de datos \n",
    "X_train, X_test, y_train, y_test = train_test_split(X, y, test_size=0.2, random_state=0, shuffle = True)\n",
    "\n",
    "# Reshape a los datos a una dimension mas para poder emplear el modelo de CNN.\n",
    "X_train = X_train.reshape(-1, int(1080/8), int(1920/8), 1)\n",
    "X_test = X_test.reshape(-1, int(1080/8), int(1920/8), 1)"
   ]
  },
  {
   "cell_type": "code",
   "execution_count": 60,
   "id": "3f662e2f",
   "metadata": {},
   "outputs": [],
   "source": [
    "# Model configuration\n",
    "num_classes = 6\n",
    "input_shape = (int(1080/8), int(1920/8), 1)\n",
    "y_categorical = to_categorical(y_train)\n",
    "y_categorical_test = to_categorical(y_test)\n",
    "batch_size = 100\n",
    "no_epochs = 20\n",
    "\n",
    "# CNN\n",
    "clf = Sequential()\n",
    "clf.add(Conv2D(64, kernel_size=(3, 3),activation='relu',padding='same',input_shape = input_shape))\n",
    "clf.add(MaxPooling2D((2, 2),padding='same'))\n",
    "clf.add(Dropout(0.10))\n",
    "clf.add(Conv2D(128, (3, 3), activation='relu',padding='same'))\n",
    "clf.add(MaxPooling2D(pool_size=(2, 2),padding='same'))\n",
    "clf.add(Dropout(0.15))\n",
    "clf.add(Conv2D(256, (3, 3), activation='relu',padding='same'))                \n",
    "clf.add(MaxPooling2D(pool_size=(2, 2),padding='same'))\n",
    "clf.add(Dropout(0.15))\n",
    "clf.add(Flatten())         \n",
    "clf.add(Dense(128, activation = 'relu'))\n",
    "clf.add(Dense(num_classes, activation='softmax'))\n",
    "\n",
    "# Compilación del modelo\n",
    "clf.compile(loss='categorical_crossentropy', optimizer='Adam', metrics=['accuracy'])"
   ]
  },
  {
   "cell_type": "code",
   "execution_count": 49,
   "id": "9e82cf4f",
   "metadata": {},
   "outputs": [
    {
     "name": "stdout",
     "output_type": "stream",
     "text": [
      "Model: \"sequential_29\"\n",
      "_________________________________________________________________\n",
      " Layer (type)                Output Shape              Param #   \n",
      "=================================================================\n",
      " conv2d_114 (Conv2D)         (None, 135, 240, 64)      640       \n",
      "                                                                 \n",
      " max_pooling2d_114 (MaxPool  (None, 68, 120, 64)       0         \n",
      " ing2D)                                                          \n",
      "                                                                 \n",
      " dropout_112 (Dropout)       (None, 68, 120, 64)       0         \n",
      "                                                                 \n",
      " conv2d_115 (Conv2D)         (None, 68, 120, 128)      73856     \n",
      "                                                                 \n",
      " max_pooling2d_115 (MaxPool  (None, 34, 60, 128)       0         \n",
      " ing2D)                                                          \n",
      "                                                                 \n",
      " dropout_113 (Dropout)       (None, 34, 60, 128)       0         \n",
      "                                                                 \n",
      " conv2d_116 (Conv2D)         (None, 34, 60, 256)       295168    \n",
      "                                                                 \n",
      " max_pooling2d_116 (MaxPool  (None, 17, 30, 256)       0         \n",
      " ing2D)                                                          \n",
      "                                                                 \n",
      " dropout_114 (Dropout)       (None, 17, 30, 256)       0         \n",
      "                                                                 \n",
      " flatten_29 (Flatten)        (None, 130560)            0         \n",
      "                                                                 \n",
      " dense_36 (Dense)            (None, 128)               16711808  \n",
      "                                                                 \n",
      " dense_37 (Dense)            (None, 6)                 774       \n",
      "                                                                 \n",
      "=================================================================\n",
      "Total params: 17082246 (65.16 MB)\n",
      "Trainable params: 17082246 (65.16 MB)\n",
      "Non-trainable params: 0 (0.00 Byte)\n",
      "_________________________________________________________________\n"
     ]
    }
   ],
   "source": [
    "clf.summary()"
   ]
  },
  {
   "cell_type": "code",
   "execution_count": 61,
   "id": "e3379683",
   "metadata": {},
   "outputs": [
    {
     "name": "stdout",
     "output_type": "stream",
     "text": [
      "13/13 [==============================] - 7s 562ms/step\n",
      "***** Pliegue  1  terminado ****\n",
      "13/13 [==============================] - 8s 595ms/step\n",
      "***** Pliegue  2  terminado ****\n",
      "13/13 [==============================] - 6s 482ms/step\n",
      "***** Pliegue  3  terminado ****\n",
      "13/13 [==============================] - 6s 462ms/step\n",
      "***** Pliegue  4  terminado ****\n",
      "13/13 [==============================] - 6s 467ms/step\n",
      "***** Pliegue  5  terminado ****\n",
      "              precision    recall  f1-score   support\n",
      "\n",
      "           0       0.88      0.85      0.87       335\n",
      "           1       0.75      0.89      0.82       335\n",
      "           2       0.78      0.96      0.86       336\n",
      "           3       0.83      0.73      0.78       334\n",
      "           4       0.92      0.88      0.90       334\n",
      "           5       0.90      0.71      0.79       342\n",
      "\n",
      "    accuracy                           0.84      2016\n",
      "   macro avg       0.84      0.84      0.84      2016\n",
      "weighted avg       0.84      0.84      0.84      2016\n",
      "\n"
     ]
    }
   ],
   "source": [
    "# Evaluación con validación cruzada\n",
    "n_splits = 5\n",
    "kf = StratifiedKFold(n_splits=n_splits, shuffle = True)\n",
    "k = 0\n",
    "cv_y_test = []\n",
    "cv_y_pred = []\n",
    "for train_index, test_index in kf.split(X, y):\n",
    "    x_train = X[train_index, :]\n",
    "    y_train = y[train_index]\n",
    "    y_train_categorical = to_categorical(y_train, num_classes)\n",
    "    x_test = X[test_index, :]\n",
    "    y_test = y[test_index]\n",
    "    y_test_categorical = to_categorical(y_test, num_classes)\n",
    "    k = k + 1\n",
    "    \n",
    "    # Define CNN model\n",
    "    clf_cv = Sequential()\n",
    "    clf_cv.add(Conv2D(64, kernel_size=(3, 3),activation='relu',padding='same',input_shape = input_shape))\n",
    "    clf_cv.add(MaxPooling2D((2, 2),padding='same'))\n",
    "    clf_cv.add(Dropout(0.10))\n",
    "    clf_cv.add(Conv2D(128, (3, 3), activation='relu',padding='same'))\n",
    "    clf_cv.add(MaxPooling2D(pool_size=(2, 2),padding='same'))\n",
    "    clf_cv.add(Dropout(0.15))\n",
    "    clf_cv.add(Conv2D(256, (3, 3), activation='relu',padding='same'))                \n",
    "    clf_cv.add(MaxPooling2D(pool_size=(2, 2),padding='same'))\n",
    "    clf_cv.add(Dropout(0.15))\n",
    "    clf_cv.add(Flatten())         \n",
    "    clf_cv.add(Dense(128, activation = 'relu'))\n",
    "    clf_cv.add(Dense(num_classes, activation='softmax'))\n",
    "\n",
    "    clf_cv.compile(loss='categorical_crossentropy', optimizer='Adam', metrics=['accuracy'])\n",
    "    clf_cv.fit(x_train, y_train_categorical, batch_size=batch_size,epochs=no_epochs,verbose=0,validation_data=(x_test, y_test_categorical))\n",
    "\n",
    "    # Evaluate model using test data\n",
    "    y_pred = np.argmax(clf_cv.predict(x_test), axis=-1)\n",
    "    cv_y_test.append(y_test)\n",
    "    cv_y_pred.append(y_pred)\n",
    "    \n",
    "    print('***** Pliegue ', k, ' terminado ****')\n",
    "\n",
    "print(classification_report(np.concatenate(cv_y_test), np.concatenate(cv_y_pred)))"
   ]
  },
  {
   "cell_type": "markdown",
   "id": "7ef4c2d1",
   "metadata": {},
   "source": [
    "# Conjunto de imágenes de verduras"
   ]
  },
  {
   "cell_type": "code",
   "execution_count": 34,
   "id": "25a510d5",
   "metadata": {},
   "outputs": [
    {
     "name": "stdout",
     "output_type": "stream",
     "text": [
      "Categoría Cebolla cargada exitosamente\n",
      "Categoría Chayote cargada exitosamente\n",
      "Categoría Jitomate cargada exitosamente\n",
      "Categoría Pepino cargada exitosamente\n",
      "Categoría Zanahoria cargada exitosamente\n"
     ]
    }
   ],
   "source": [
    "# Cargar imágenes satelitales\n",
    "datadir = 'data_verduras'\n",
    "classes = ['Cebolla', 'Chayote', 'Jitomate', 'Pepino', 'Zanahoria']\n",
    "\n",
    "# Llamar a la función de preprocesamiento de imágenes \n",
    "x, y = preprocesamiento(datadir, classes, 8)"
   ]
  },
  {
   "cell_type": "code",
   "execution_count": 35,
   "id": "0aad6651",
   "metadata": {},
   "outputs": [],
   "source": [
    "X = np.array(x)\n",
    "y = np.array(y)\n",
    "\n",
    "# Separar bases de datos \n",
    "X_train, X_test, y_train, y_test = train_test_split(X, y, test_size=0.2, random_state=0, shuffle = True)"
   ]
  },
  {
   "cell_type": "code",
   "execution_count": 37,
   "id": "4dc6f87f",
   "metadata": {},
   "outputs": [],
   "source": [
    "# Reshape a los datos a una dimension mas para poder emplear el modelo de CNN.\n",
    "X_train = X_train.reshape(-1, int(1080/8), int(1920/8), 1)\n",
    "X_test = X_test.reshape(-1, int(1080/8), int(1920/8), 1)"
   ]
  },
  {
   "cell_type": "code",
   "execution_count": 43,
   "id": "275bede8",
   "metadata": {},
   "outputs": [],
   "source": [
    "# Model configuration\n",
    "num_classes = 5\n",
    "input_shape = (int(1080/8), int(1920/8), 1)\n",
    "y_categorical = to_categorical(y_train)\n",
    "y_categorical_test = to_categorical(y_test)\n",
    "batch_size = 100\n",
    "no_epochs = 5\n",
    "\n",
    "# CNN\n",
    "clf = Sequential()\n",
    "clf.add(Conv2D(64, kernel_size=(3, 3),activation='relu',padding='same',input_shape = input_shape))\n",
    "clf.add(MaxPooling2D((2, 2),padding='same'))\n",
    "clf.add(Dropout(0.10))\n",
    "clf.add(Conv2D(128, (3, 3), activation='relu',padding='same'))\n",
    "clf.add(MaxPooling2D(pool_size=(2, 2),padding='same'))\n",
    "clf.add(Dropout(0.15))\n",
    "clf.add(Conv2D(256, (3, 3), activation='relu',padding='same'))                \n",
    "clf.add(MaxPooling2D(pool_size=(2, 2),padding='same'))\n",
    "clf.add(Conv2D(512, kernel_size=3, activation='relu', padding=\"same\"))\n",
    "clf.add(MaxPooling2D((2, 2), padding='same'))\n",
    "clf.add(Dropout(0.15))\n",
    "clf.add(Flatten())         \n",
    "clf.add(Dropout(0.25))\n",
    "clf.add(Dense(128, activation = 'relu'))\n",
    "clf.add(Dense(num_classes, activation='softmax'))\n",
    "\n",
    "# Compilación del modelo\n",
    "clf.compile(loss='categorical_crossentropy', optimizer='Adam', metrics=['accuracy'])"
   ]
  },
  {
   "cell_type": "code",
   "execution_count": 45,
   "id": "87e5fdcc",
   "metadata": {},
   "outputs": [
    {
     "name": "stdout",
     "output_type": "stream",
     "text": [
      "Model: \"sequential_23\"\n",
      "_________________________________________________________________\n",
      " Layer (type)                Output Shape              Param #   \n",
      "=================================================================\n",
      " conv2d_90 (Conv2D)          (None, 135, 240, 64)      640       \n",
      "                                                                 \n",
      " max_pooling2d_90 (MaxPooli  (None, 68, 120, 64)       0         \n",
      " ng2D)                                                           \n",
      "                                                                 \n",
      " dropout_88 (Dropout)        (None, 68, 120, 64)       0         \n",
      "                                                                 \n",
      " conv2d_91 (Conv2D)          (None, 68, 120, 128)      73856     \n",
      "                                                                 \n",
      " max_pooling2d_91 (MaxPooli  (None, 34, 60, 128)       0         \n",
      " ng2D)                                                           \n",
      "                                                                 \n",
      " dropout_89 (Dropout)        (None, 34, 60, 128)       0         \n",
      "                                                                 \n",
      " conv2d_92 (Conv2D)          (None, 34, 60, 256)       295168    \n",
      "                                                                 \n",
      " max_pooling2d_92 (MaxPooli  (None, 17, 30, 256)       0         \n",
      " ng2D)                                                           \n",
      "                                                                 \n",
      " conv2d_93 (Conv2D)          (None, 17, 30, 512)       1180160   \n",
      "                                                                 \n",
      " max_pooling2d_93 (MaxPooli  (None, 9, 15, 512)        0         \n",
      " ng2D)                                                           \n",
      "                                                                 \n",
      " dropout_90 (Dropout)        (None, 9, 15, 512)        0         \n",
      "                                                                 \n",
      " flatten_23 (Flatten)        (None, 69120)             0         \n",
      "                                                                 \n",
      " dropout_91 (Dropout)        (None, 69120)             0         \n",
      "                                                                 \n",
      " dense_24 (Dense)            (None, 128)               8847488   \n",
      "                                                                 \n",
      " dense_25 (Dense)            (None, 5)                 645       \n",
      "                                                                 \n",
      "=================================================================\n",
      "Total params: 10397957 (39.67 MB)\n",
      "Trainable params: 10397957 (39.67 MB)\n",
      "Non-trainable params: 0 (0.00 Byte)\n",
      "_________________________________________________________________\n"
     ]
    }
   ],
   "source": [
    "clf.summary()"
   ]
  },
  {
   "cell_type": "code",
   "execution_count": 44,
   "id": "f9a18541",
   "metadata": {},
   "outputs": [
    {
     "name": "stdout",
     "output_type": "stream",
     "text": [
      "16/16 [==============================] - 10s 617ms/step\n",
      "***** Pliegue  1  terminado *****\n",
      "16/16 [==============================] - 10s 612ms/step\n",
      "***** Pliegue  2  terminado *****\n",
      "16/16 [==============================] - 15s 918ms/step\n",
      "***** Pliegue  3  terminado *****\n",
      "16/16 [==============================] - 14s 880ms/step\n",
      "***** Pliegue  4  terminado *****\n",
      "16/16 [==============================] - 14s 890ms/step\n",
      "***** Pliegue  5  terminado *****\n",
      "              precision    recall  f1-score   support\n",
      "\n",
      "           0       0.98      1.00      0.99       501\n",
      "           1       0.99      1.00      0.99       503\n",
      "           2       0.97      0.88      0.92       524\n",
      "           3       0.89      0.95      0.91       500\n",
      "           4       0.97      0.99      0.98       500\n",
      "\n",
      "    accuracy                           0.96      2528\n",
      "   macro avg       0.96      0.96      0.96      2528\n",
      "weighted avg       0.96      0.96      0.96      2528\n",
      "\n"
     ]
    }
   ],
   "source": [
    "# Evaluación con validación cruzada\n",
    "n_splits = 5\n",
    "kf = StratifiedKFold(n_splits=n_splits, shuffle = True)\n",
    "k = 0\n",
    "cv_y_test = []\n",
    "cv_y_pred = []\n",
    "for train_index, test_index in kf.split(X, y):\n",
    "    x_train = X[train_index, :]\n",
    "    y_train = y[train_index]\n",
    "    y_train_categorical = to_categorical(y_train, num_classes)\n",
    "    x_test = X[test_index, :]\n",
    "    y_test = y[test_index]\n",
    "    y_test_categorical = to_categorical(y_test, num_classes)\n",
    "    k = k + 1\n",
    "    \n",
    "    # Define CNN model\n",
    "    clf_cv = Sequential()\n",
    "    clf_cv.add(Conv2D(64, kernel_size=(3, 3),activation='relu',padding='same',input_shape = input_shape))\n",
    "    clf_cv.add(MaxPooling2D((2, 2),padding='same'))\n",
    "    clf_cv.add(Dropout(0.10))\n",
    "    clf_cv.add(Conv2D(128, (3, 3), activation='relu',padding='same'))\n",
    "    clf_cv.add(MaxPooling2D(pool_size=(2, 2),padding='same'))\n",
    "    clf_cv.add(Dropout(0.15))\n",
    "    clf_cv.add(Conv2D(256, (3, 3), activation='relu',padding='same'))                \n",
    "    clf_cv.add(MaxPooling2D(pool_size=(2, 2),padding='same'))\n",
    "    clf_cv.add(Conv2D(512, kernel_size=3, activation='relu', padding=\"same\"))\n",
    "    clf_cv.add(MaxPooling2D((2, 2), padding='same'))\n",
    "    clf_cv.add(Dropout(0.15))\n",
    "    clf_cv.add(Flatten())         \n",
    "    clf_cv.add(Dropout(0.25))\n",
    "    clf_cv.add(Dense(128, activation = 'relu'))\n",
    "    clf_cv.add(Dense(num_classes, activation='softmax'))\n",
    "\n",
    "    clf_cv.compile(loss='categorical_crossentropy', optimizer='Adam', metrics=['accuracy'])\n",
    "    clf_cv.fit(x_train, y_train_categorical, batch_size=batch_size,epochs=no_epochs,verbose=0,validation_data=(x_test, y_test_categorical))\n",
    "\n",
    "    # Evaluate model using test data\n",
    "    y_pred = np.argmax(clf_cv.predict(x_test), axis=-1)\n",
    "    cv_y_test.append(y_test)\n",
    "    cv_y_pred.append(y_pred)\n",
    "    \n",
    "    print('***** Pliegue ', k, ' terminado *****')\n",
    "               \n",
    "print(classification_report(np.concatenate(cv_y_test), np.concatenate(cv_y_pred)))"
   ]
  }
 ],
 "metadata": {
  "kernelspec": {
   "display_name": "Python 3 (ipykernel)",
   "language": "python",
   "name": "python3"
  },
  "language_info": {
   "codemirror_mode": {
    "name": "ipython",
    "version": 3
   },
   "file_extension": ".py",
   "mimetype": "text/x-python",
   "name": "python",
   "nbconvert_exporter": "python",
   "pygments_lexer": "ipython3",
   "version": "3.11.4"
  }
 },
 "nbformat": 4,
 "nbformat_minor": 5
}
